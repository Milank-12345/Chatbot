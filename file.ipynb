{
 "cells": [
  {
   "cell_type": "code",
   "execution_count": 5,
   "id": "dd4bdea6",
   "metadata": {},
   "outputs": [],
   "source": [
    "import pandas as pd\n",
    "\n",
    "data = [\n",
    "    {\"name\": \"LoanCorp\", \"type\": \"personal\", \"min_income\": 20000, \"max_amount\": 50000, \"interest_rate\": 12.5},\n",
    "    {\"name\": \"FastFinance\", \"type\": \"personal\", \"min_income\": 15000, \"max_amount\": 30000, \"interest_rate\": 14.0},\n",
    "    {\"name\": \"HomeFund\", \"type\": \"home\", \"min_income\": 25000, \"max_amount\": 1000000, \"interest_rate\": 8.5},\n",
    "    {\"name\": \"AutoEasy\", \"type\": \"auto\", \"min_income\": 18000, \"max_amount\": 700000, \"interest_rate\": 10.0},\n",
    "    {\"name\": \"BizBoost\", \"type\": \"business\", \"min_income\": 30000, \"max_amount\": 2000000, \"interest_rate\": 11.5},\n",
    "    {\"name\": \"PersonalPlus\", \"type\": \"personal\", \"min_income\": 22000, \"max_amount\": 60000, \"interest_rate\": 13.2},\n",
    "    {\"name\": \"DreamHome\", \"type\": \"home\", \"min_income\": 35000, \"max_amount\": 1500000, \"interest_rate\": 8.0},\n",
    "    {\"name\": \"RapidLoans\", \"type\": \"personal\", \"min_income\": 12000, \"max_amount\": 25000, \"interest_rate\": 15.5},\n",
    "]\n",
    "\n",
    "df = pd.DataFrame(data)\n",
    "df.to_excel(\"loan_companies.xlsx\", index=False)\n"
   ]
  },
  {
   "cell_type": "code",
   "execution_count": 4,
   "id": "e38f14e8",
   "metadata": {},
   "outputs": [
    {
     "name": "stdout",
     "output_type": "stream",
     "text": [
      "Requirement already satisfied: pandas in c:\\users\\milan.ajudiya\\desktop\\chatbot\\.venv\\lib\\site-packages (2.3.0)\n",
      "Collecting openpyxl\n",
      "  Downloading openpyxl-3.1.5-py2.py3-none-any.whl.metadata (2.5 kB)\n",
      "Requirement already satisfied: numpy>=1.23.2 in c:\\users\\milan.ajudiya\\desktop\\chatbot\\.venv\\lib\\site-packages (from pandas) (2.3.1)\n",
      "Requirement already satisfied: python-dateutil>=2.8.2 in c:\\users\\milan.ajudiya\\desktop\\chatbot\\.venv\\lib\\site-packages (from pandas) (2.9.0.post0)\n",
      "Requirement already satisfied: pytz>=2020.1 in c:\\users\\milan.ajudiya\\desktop\\chatbot\\.venv\\lib\\site-packages (from pandas) (2025.2)\n",
      "Requirement already satisfied: tzdata>=2022.7 in c:\\users\\milan.ajudiya\\desktop\\chatbot\\.venv\\lib\\site-packages (from pandas) (2025.2)\n",
      "Collecting et-xmlfile (from openpyxl)\n",
      "  Downloading et_xmlfile-2.0.0-py3-none-any.whl.metadata (2.7 kB)\n",
      "Requirement already satisfied: six>=1.5 in c:\\users\\milan.ajudiya\\desktop\\chatbot\\.venv\\lib\\site-packages (from python-dateutil>=2.8.2->pandas) (1.17.0)\n",
      "Downloading openpyxl-3.1.5-py2.py3-none-any.whl (250 kB)\n",
      "Downloading et_xmlfile-2.0.0-py3-none-any.whl (18 kB)\n",
      "Installing collected packages: et-xmlfile, openpyxl\n",
      "\n",
      "   -------------------- ------------------- 1/2 [openpyxl]\n",
      "   -------------------- ------------------- 1/2 [openpyxl]\n",
      "   -------------------- ------------------- 1/2 [openpyxl]\n",
      "   -------------------- ------------------- 1/2 [openpyxl]\n",
      "   -------------------- ------------------- 1/2 [openpyxl]\n",
      "   -------------------- ------------------- 1/2 [openpyxl]\n",
      "   -------------------- ------------------- 1/2 [openpyxl]\n",
      "   -------------------- ------------------- 1/2 [openpyxl]\n",
      "   ---------------------------------------- 2/2 [openpyxl]\n",
      "\n",
      "Successfully installed et-xmlfile-2.0.0 openpyxl-3.1.5\n",
      "Note: you may need to restart the kernel to use updated packages.\n"
     ]
    }
   ],
   "source": [
    "pip install pandas openpyxl"
   ]
  },
  {
   "cell_type": "code",
   "execution_count": null,
   "id": "e9cae00c",
   "metadata": {},
   "outputs": [],
   "source": []
  }
 ],
 "metadata": {
  "kernelspec": {
   "display_name": ".venv",
   "language": "python",
   "name": "python3"
  },
  "language_info": {
   "codemirror_mode": {
    "name": "ipython",
    "version": 3
   },
   "file_extension": ".py",
   "mimetype": "text/x-python",
   "name": "python",
   "nbconvert_exporter": "python",
   "pygments_lexer": "ipython3",
   "version": "3.11.0"
  }
 },
 "nbformat": 4,
 "nbformat_minor": 5
}
